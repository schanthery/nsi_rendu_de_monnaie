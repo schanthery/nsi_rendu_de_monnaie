{
 "cells": [
  {
   "cell_type": "markdown",
   "metadata": {},
   "source": [
    "<div class =\"alert alert-warning\">   \n",
    "    \n",
    "    \n",
    "notebook consultable, exécutable, modifiable et téléchargeable en ligne :     \n",
    "    \n",
    "\t\n",
    "- se rendre à : https://github.com/nsi-acot/continuite_pedagogique_premiere\n",
    "- cliquer sur l'icone \"launch binder\" en bas de page\n",
    "- patienter quelques secondes que le serveur Jupyter démarre\n",
    "- naviguer dans le dossier `\"./algorithmique/algos_gloutons/\"`\n",
    "- cliquer sur le nom de ce notebook\n",
    "</div>"
   ]
  },
  {
   "cell_type": "markdown",
   "metadata": {},
   "source": [
    "# Rendu de monnaie\n",
    "\n",
    "### Systeme de monnaie\n",
    "\n",
    "Un achat en espèces se traduit par un échange de pièces et de billets. Dans la suite, **ce qu'on appellera des *pièces* désignera aussi bien les véritables pièces que les billets**.\n",
    "\n",
    "Dans le système monétaire de la zone euro, si on se limite aux sommes entières (pas de centimes) les pièces prennent pour valeurs 1, 2, 5, 10, 20, 50, 100, 200 et 500 euros . On dit que le système de monnaie peut être représenté par le tableau  \n",
    "```\n",
    "systeme_monnaie_euro = [1, 2, 5, 10, 20, 50, 100, 200, 500]\n",
    "```\n",
    "Néanmoins on pourrait considérer d'autres ensembles de monnaie. Par exemple le tableau  \n",
    "```\n",
    "systeme_monnaie_pluton = [1, 3, 6, 12, 24, 30]\n",
    "```\n",
    "\n",
    "### Exemple avec une somme à rendre de 49\n",
    "Supposons maintenant qu'on doive rendre 49 euros de monnaie. Quelles pièces peuvent être rendues ? La réponse n'est pas unique.  \n",
    "\n",
    "- Avec `systeme_monnaie_euro` : deux pièces de 20, 1 pièce de 5 et deux pièces de 2 conviennent. Mais quarante-neuf pièces de 1 conviennent aussi.  \n",
    "\n",
    "\n",
    "- Avec `systeme_monnaie_pluton` : une pièce de 30, une pièce de 12, une pièce de 6 et une pièce de 1 conviennent. Mais une pièce de 10 et treize pièces de 3 conviennent également.\n",
    "\n",
    "**Remarque :** Dans tout ce notebook, on suppose que pour rendre la monnaie on dispose d'une \"caisse\" contenant un nombre infini de chacune des pièces du système de monnaie choisi.\n",
    "\n",
    "### Minimiser le nombre de pièces à rendre\n",
    "\n",
    "Si on souhaite maintenant rendre la monnaie `somme_a_rendre = 49` **avec un minimum de pièces**, on peut démontrer que :\n",
    "- pour `systeme_monnaie_euro`, la meilleure solution pour rendre 49 est `liste_rendu = [20, 20, 5, 2, 2]`.  \n",
    "\n",
    "\n",
    "- pour `systeme_monnaie_pluton`, la meilleure solution est `liste_rendu = [24, 24, 1]`.\n",
    "\n",
    "\n",
    "### Définition du problème du rendu de monnaie : rendre la monnaie avec le minimum de pièces\n",
    "\n",
    "Etant donné un système de monnaie à valeurs entières (\\*) et une somme entière à rendre, on appelle problème du rendu de monnaie le problème qui consiste à **rendre la monnaie avec le moins de pièces possibles**.\n",
    "\n",
    "\n",
    "(\\*) *on suppose aussi que le système de monnaie contient la pièce 1 pour être certain de pouvoir rendre la monnaie dans tous les cas*"
   ]
  },
  {
   "cell_type": "markdown",
   "metadata": {},
   "source": [
    "<div class = \"alert alert-danger\">\n",
    "\n",
    "### Synthèse du vocabulaire et des notations utilisées dans la suite du notebook\n",
    "\n",
    "Dans la suite nous n'utiliserons que les deux systèmes de monnaie et nous appelerons donc systématiquement :  \n",
    "\n",
    "- `systeme_monnaie_euro` le tableau d'**entiers** `[1, 2, 5, 10, 20, 50, 100, 200, 500]`,\n",
    "- `systeme_monnaie_pluton` le tableau d'**entiers** `[1, 3, 6, 12, 24, 30]`,\n",
    "- `somme_a_rendre` le montant **entier** de la somme qui doit être rendue (ci-dessus égale à 49),\n",
    "- `liste_rendu` le tableau des pièces qui vont être rendues (si on s'y prend mal, `liste_rendu` peut utiliser plus de pièces que le minimum possible)."
   ]
  },
  {
   "cell_type": "markdown",
   "metadata": {},
   "source": [
    "<div class = \"alert alert-info\">  \n",
    "\n",
    "### Pour vérifier si on a bien compris\n",
    "\n",
    "**Question :**\n",
    "\n",
    "Pour le systeme `systeme_monnaie_euro` et pour `somme_a_rendre = 37`, trouver :  \n",
    "    \n",
    "- un rendu de monnaie `liste_rendu` utilisant selon vous le moins de pièces possibles,\n",
    "- un rendu de monnaie `liste_rendu` utilisant plus de pièces que le minimum,\n",
    "- laquelle des deux réponses est appelée \"la meilleure solution\" ?\n",
    "\n",
    "**Question :**\n",
    "\n",
    "Pour le systeme `systeme_monnaie_pluton` et pour `somme_a_rendre = 37`, trouver :  \n",
    "    \n",
    "- un rendu de monnaie `liste_rendu` utilisant selon vous le moins de pièces possibles,\n",
    "- un rendu de monnaie `liste_rendu` utilisant plus de pièces que le minimum,\n",
    "- laquelle des deux réponses est appelée \"la meilleure solution\" ?\n",
    "    "
   ]
  },
  {
   "cell_type": "markdown",
   "metadata": {},
   "source": [
    "# L'algorithme naturel du rendu de monnaie est un algorithme glouton"
   ]
  },
  {
   "cell_type": "markdown",
   "metadata": {},
   "source": [
    "<div class = \"alert alert-info\">  \n",
    "    \n",
    "    \n",
    "**Question :**  \n",
    "    \n",
    "Dans le problème du rendu de monnaie :  \n",
    "    \n",
    "    \n",
    "- Quelle est la sélection que l'on effectue ?\n",
    "- Quelle est la contrainte à vérifier par la sélection ?\n",
    "- Quelle est la maximisation ou minimisation recherchée ?"
   ]
  },
  {
   "cell_type": "markdown",
   "metadata": {},
   "source": [
    "Pour rendre la monnaie la méthode que tout le monde utilise est la suivante :\n",
    "```\n",
    "liste_rendu = liste vide\n",
    "Tant que somme_a_rendre > 0:\n",
    "    - choisir la plus grande pièce de systeme_monnaie inférieure à somme_a_rendre\n",
    "    - mettre cette pièce dans liste_rendu\n",
    "    - diminuer somme_a_rendre de la valeur de la pièce\n",
    "```"
   ]
  },
  {
   "cell_type": "markdown",
   "metadata": {},
   "source": [
    "<div class = \"alert alert-info\">  \n",
    "\n",
    "\n",
    "**Question :**\n",
    "\n",
    "\n",
    "Quelle est, à chaque étape, la règle de choix ?"
   ]
  },
  {
   "cell_type": "markdown",
   "metadata": {},
   "source": [
    "<div class = \"alert alert-danger\">\n",
    "\n",
    "### Conclusion  \n",
    "\n",
    "\n",
    "L'algorithme ci-dessus, appelé \"algorithme du rendu de monnaie\" est bien un algorithme glouton."
   ]
  },
  {
   "cell_type": "markdown",
   "metadata": {},
   "source": [
    "# Programmation version 1"
   ]
  },
  {
   "cell_type": "markdown",
   "metadata": {},
   "source": [
    "<div class = \"alert alert-info\">  \n",
    "\n",
    "\n",
    "**Question :**\n",
    "\n",
    "\n",
    "Programmer une fonction `plus_grande_piece_dans` qui prend en paramètre :  \n",
    "    \n",
    "- un tableau d'entiers strictement positifs `systeme_monnaie` qui contient au moins la valeur 1\n",
    "- un nombre entier `somme` strictement supérieur à 0\n",
    "    \n",
    "et renvoie la plus grande valeur `piece` présente dans `systeme_monnaie` qui est inférieure ou égale à `somme`.  \n",
    "    \n",
    "\n",
    ".    \n",
    "\n",
    "    \n",
    "Quelques assertions qui doivent être vérifiées par votre fonction sont données ci-dessous.\n"
   ]
  },
  {
   "cell_type": "code",
   "execution_count": null,
   "metadata": {},
   "outputs": [],
   "source": [
    "def plus_grande_piece_dans(systeme_monnaie, somme):\n",
    "    #code à compléter\n",
    "    \n",
    "    \n",
    "    return piece"
   ]
  },
  {
   "cell_type": "code",
   "execution_count": null,
   "metadata": {},
   "outputs": [],
   "source": [
    "systeme_monnaie_euro = [1, 2, 5, 10, 20, 50, 100, 200, 500]\n",
    "systeme_monnaie_pluton = [1, 3, 6, 12, 24, 30]\n",
    "\n",
    "assert(plus_grande_piece_dans(systeme_monnaie_euro, 23) == 20)\n",
    "assert(plus_grande_piece_dans(systeme_monnaie_euro, 259) == 200)\n",
    "assert(plus_grande_piece_dans(systeme_monnaie_euro, 9) == 5)\n",
    "assert(plus_grande_piece_dans(systeme_monnaie_euro, 1) == 1)\n",
    "\n",
    "assert(plus_grande_piece_dans(systeme_monnaie_pluton, 23) == 12)\n",
    "assert(plus_grande_piece_dans(systeme_monnaie_pluton, 259) == 30)\n",
    "assert(plus_grande_piece_dans(systeme_monnaie_pluton, 9) == 6)\n",
    "assert(plus_grande_piece_dans(systeme_monnaie_pluton, 1) == 1)"
   ]
  },
  {
   "cell_type": "markdown",
   "metadata": {},
   "source": [
    "<div class = \"alert alert-info\">  \n",
    "\n",
    "\n",
    "**Question :**\n",
    "\n",
    "\n",
    "En utilisant la fonction `plus_grande_piece_dans` définis ci-dessus, compléter le code de la fonction `rendre monnaie` qui prend en paramètre :  \n",
    "    \n",
    "- un tableau d'entiers strictement positifs `systeme_monnaie` qui contient au moins la valeur 1\n",
    "- un nombre entier `somme_a_rendre` strictement supérieur à 0\n",
    "    \n",
    "et renvoie la liste `liste_rendu` obtenue par l'algorithme du rendu de monnaie sur `somme_a_rendre`.   \n",
    "    \n",
    "    \n",
    "On rappelle que pour ajouter un élément `elt` à une liste `L` on utilise l'instruction `L.append(elt)`.\n",
    "     \n",
    "\n",
    ".    \n",
    "\n",
    "    \n",
    "Quelques assertions qui doivent être vérifiées par votre fonction sont données ci-dessous.\n"
   ]
  },
  {
   "cell_type": "code",
   "execution_count": null,
   "metadata": {},
   "outputs": [],
   "source": [
    "def rendre_monnaie(systeme_monnaie, somme_a_rendre):\n",
    "    liste_rendu = []\n",
    "    #code à compléter\n",
    "    \n",
    "    \n",
    "    return liste_rendu"
   ]
  },
  {
   "cell_type": "code",
   "execution_count": null,
   "metadata": {},
   "outputs": [],
   "source": [
    "systeme_monnaie_euro = [1, 2, 5, 10, 20, 50, 100, 200, 500]\n",
    "systeme_monnaie_pluton = [1, 3, 6, 12, 24, 30]\n",
    "\n",
    "assert(rendre_monnaie(systeme_monnaie_euro, 23) == [20, 2, 1])\n",
    "assert(rendre_monnaie(systeme_monnaie_euro, 259) == [200, 50, 5, 2, 2])\n",
    "assert(rendre_monnaie(systeme_monnaie_euro, 9) == [5, 2, 2])\n",
    "assert(rendre_monnaie(systeme_monnaie_euro, 1) == [1])\n",
    "\n",
    "assert(rendre_monnaie(systeme_monnaie_pluton, 23) == [12, 6, 3, 1, 1])\n",
    "assert(rendre_monnaie(systeme_monnaie_pluton, 259) == [30, 30, 30, 30, 30, 30, 30, 30, 12, 6, 1])\n",
    "assert(rendre_monnaie(systeme_monnaie_pluton, 9) == [6, 3])\n",
    "assert(rendre_monnaie(systeme_monnaie_pluton, 1) == [1])"
   ]
  },
  {
   "cell_type": "markdown",
   "metadata": {},
   "source": [
    "<div class = \"alert alert-info\">  \n",
    "\n",
    "\n",
    "**Questions :**\n",
    "\n",
    "\n",
    "1) Avec le système `systeme_monnaie_pluton`, donner la `liste_rendu` renvoyée par l'algorithme du rendu de monnaie pour chacune des `somme_a_rendre` ci-dessous :  \n",
    "\n",
    "- 48\n",
    "- 49\n",
    "- 50\n",
    "- 51\n",
    "- 52\n",
    "- 53\n",
    "- 54\n",
    "\n",
    "2) Montrer que dans les six premiers cas il existe une meilleure solution que celle renvoyée par l'algorithme (qui utilise une pièce de moins).  \n",
    "\n",
    "\n",
    "3) Pour votre culture générale, sachez :  \n",
    "    \n",
    "- qu'avec `systeme_monnaie_euro`, la `liste_rendu` renvoyée par l'algorithme du rendu de monnaie est toujours la meilleure solution : on dit que le système de monnaie est *canonique*.  \n",
    "    \n",
    "    \n",
    "- qu'avec `systeme_monnaie_pluton`, ce n'est pas le cas : on dit que le systeme de monnaie n'est *pas canonique*.\n",
    "\n",
    "   \n",
    "\n"
   ]
  },
  {
   "cell_type": "markdown",
   "metadata": {},
   "source": [
    "# Programmation version 2 (facultatif)"
   ]
  },
  {
   "cell_type": "markdown",
   "metadata": {},
   "source": [
    "<div class = \"alert alert-info\">  \n",
    "\n",
    "\n",
    "**Question :**\n",
    "\n",
    "\n",
    "Essayer de comprendre la version 2 ci-dessous de l'algorithme du rendu de monnaie afin d'expliquer pourquoi cette variante est plus efficace que la version 1."
   ]
  },
  {
   "cell_type": "code",
   "execution_count": null,
   "metadata": {},
   "outputs": [],
   "source": [
    "def rendre_monnaie_v2(systeme_monnaie, somme_a_rendre):\n",
    "    liste_rendu = []\n",
    "    indice_plus_grande_piece = len(systeme_monnaie)-1\n",
    "    \n",
    "    while somme_a_rendre > 0:\n",
    "        piece = systeme_monnaie[indice_plus_grande_piece]\n",
    "        if piece <= somme_a_rendre:\n",
    "            liste_rendu.append(piece)\n",
    "            somme_a_rendre = somme_a_rendre - piece\n",
    "        else:\n",
    "            indice_plus_grande_piece = indice_plus_grande_piece - 1\n",
    "    return liste_rendu"
   ]
  },
  {
   "cell_type": "code",
   "execution_count": null,
   "metadata": {},
   "outputs": [],
   "source": [
    "systeme_monnaie_euro = [1, 2, 5, 10, 20, 50, 100, 200, 500]\n",
    "systeme_monnaie_pluton = [1, 3, 6, 12, 24, 30]\n",
    "\n",
    "assert(rendre_monnaie_v2(systeme_monnaie_euro, 23) == [20, 2, 1])\n",
    "assert(rendre_monnaie_v2(systeme_monnaie_euro, 259) == [200, 50, 5, 2, 2])\n",
    "assert(rendre_monnaie_v2(systeme_monnaie_euro, 9) == [5, 2, 2])\n",
    "assert(rendre_monnaie_v2(systeme_monnaie_euro, 1) == [1])\n",
    "\n",
    "assert(rendre_monnaie_v2(systeme_monnaie_pluton, 23) == [12, 6, 3, 1, 1])\n",
    "assert(rendre_monnaie_v2(systeme_monnaie_pluton, 259) == [30, 30, 30, 30, 30, 30, 30, 30, 12, 6, 1])\n",
    "assert(rendre_monnaie_v2(systeme_monnaie_pluton, 9) == [6, 3])\n",
    "assert(rendre_monnaie_v2(systeme_monnaie_pluton, 1) == [1])"
   ]
  }
 ],
 "metadata": {
  "kernelspec": {
   "display_name": "Python 3",
   "language": "python",
   "name": "python3"
  },
  "language_info": {
   "codemirror_mode": {
    "name": "ipython",
    "version": 3
   },
   "file_extension": ".py",
   "mimetype": "text/x-python",
   "name": "python",
   "nbconvert_exporter": "python",
   "pygments_lexer": "ipython3",
   "version": "3.8.1"
  }
 },
 "nbformat": 4,
 "nbformat_minor": 4
}
